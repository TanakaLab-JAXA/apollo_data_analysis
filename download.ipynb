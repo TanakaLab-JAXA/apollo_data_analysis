{
 "cells": [
  {
   "cell_type": "code",
   "execution_count": 1,
   "metadata": {},
   "outputs": [],
   "source": [
    "import os\n",
    "import obspy"
   ]
  },
  {
   "cell_type": "code",
   "execution_count": 2,
   "metadata": {},
   "outputs": [],
   "source": [
    "prefix = \"/media/imagawa/BACKUP/RAW\"\n",
    "path = prefix + \"/apollo/pse/p16s/pse.a16.2.93\"\n",
    "\n",
    "data = obspy.read(path)"
   ]
  },
  {
   "cell_type": "code",
   "execution_count": 3,
   "metadata": {},
   "outputs": [],
   "source": [
    "station = 16\n",
    "spz = data.select(id=f'XA.S{station}..SPZ')"
   ]
  },
  {
   "cell_type": "code",
   "execution_count": 5,
   "metadata": {},
   "outputs": [
    {
     "data": {
      "text/plain": [
       "1 Trace(s) in Stream:\n",
       "XA.S16..SPZ | 1973-01-08T20:20:00.230000Z - 1974-01-27T08:07:36.154528Z | 53.0 Hz, 1756083765 samples"
      ]
     },
     "execution_count": 5,
     "metadata": {},
     "output_type": "execute_result"
    }
   ],
   "source": [
    "spz.merge(method=1, fill_value='interpolate')"
   ]
  },
  {
   "cell_type": "code",
   "execution_count": 6,
   "metadata": {},
   "outputs": [],
   "source": [
    "spz.write('./SPZ.sac', format='SAC')"
   ]
  },
  {
   "cell_type": "code",
   "execution_count": 4,
   "metadata": {},
   "outputs": [],
   "source": [
    "def make_write_path(path):\n",
    "    '''\n",
    "    convert \"pse.aXX.Y.ZZ\" to pse.aXX.0Y.0ZZ\n",
    "\n",
    "    Args:\n",
    "        path (Str): directory path\n",
    "    '''\n",
    "    dirs = path.split('/')\n",
    "    ends = dirs[-1].split('.')\n",
    "\n",
    "    if len(ends[-2]) == 1:\n",
    "        ends[-2] = '0' + ends[-2]\n",
    "\n",
    "    if len(ends[-1]) == 1:\n",
    "        ends[-1] = '00' + ends[-1]\n",
    "    elif len(ends[-1]) == 2:\n",
    "        ends[-1] = '0' + ends[-1]\n",
    "\n",
    "    dirs[-1] = '.'.join(ends)\n",
    "    return '/'.join(dirs)\n",
    "\n",
    "path = '/media/imagawa/BACKUP/RAW' + '/apollo/pse'\n",
    "for station in [11, 12, 14, 15, 16]:\n",
    "    for key in range(1, 13):\n",
    "        for i in range(1, 293):\n",
    "            # 空のディレクトリを削除\n",
    "            try:\n",
    "                os.rmdir(\n",
    "                    make_write_path(f'{path}/p{station}s/pse.a{station}.{key}.{i}')\n",
    "                )\n",
    "            except OSError:\n",
    "                pass"
   ]
  },
  {
   "cell_type": "code",
   "execution_count": null,
   "metadata": {},
   "outputs": [],
   "source": []
  }
 ],
 "metadata": {
  "interpreter": {
   "hash": "4a27c14567eb7f5a7e1577f8e13279bbb33818a7aa177739fee621eddd047e71"
  },
  "kernelspec": {
   "display_name": "Python 3.6.13 64-bit ('moon': conda)",
   "language": "python",
   "name": "python3"
  },
  "language_info": {
   "codemirror_mode": {
    "name": "ipython",
    "version": 3
   },
   "file_extension": ".py",
   "mimetype": "text/x-python",
   "name": "python",
   "nbconvert_exporter": "python",
   "pygments_lexer": "ipython3",
   "version": "3.6.15"
  },
  "orig_nbformat": 4
 },
 "nbformat": 4,
 "nbformat_minor": 2
}
