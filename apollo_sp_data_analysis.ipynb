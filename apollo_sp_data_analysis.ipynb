{
 "cells": [
  {
   "cell_type": "code",
   "execution_count": 1,
   "metadata": {},
   "outputs": [],
   "source": [
    "from datetime import timedelta\n",
    "\n",
    "import matplotlib\n",
    "import matplotlib.pyplot as plt\n",
    "import numpy as np\n",
    "from obspy.clients.fdsn.client import Client\n",
    "from obspy.core import read\n",
    "from obspy.core.inventory import read_inventory\n",
    "from obspy.core.utcdatetime import UTCDateTime\n"
   ]
  },
  {
   "cell_type": "code",
   "execution_count": null,
   "metadata": {},
   "outputs": [],
   "source": [
    "def read_seismogram_iris(starttime: list[int], endtime: list[int], network: str = \"XA\", station: str = \"S14\", channel: str = \"SHZ\", location: str = \"*\"):\n",
    "    starttime, endtime = UTCDateTime(*starttime), UTCDateTime(*endtime)\n",
    "    network=network"
   ]
  }
 ],
 "metadata": {
  "kernelspec": {
   "display_name": "Python 3.9.7 ('venv': venv)",
   "language": "python",
   "name": "python3"
  },
  "language_info": {
   "codemirror_mode": {
    "name": "ipython",
    "version": 3
   },
   "file_extension": ".py",
   "mimetype": "text/x-python",
   "name": "python",
   "nbconvert_exporter": "python",
   "pygments_lexer": "ipython3",
   "version": "3.9.7"
  },
  "orig_nbformat": 4,
  "vscode": {
   "interpreter": {
    "hash": "b9829296fc0263ed7a93647ceaa9a8a09aa24f253667b2d99408c4068cd8c3ac"
   }
  }
 },
 "nbformat": 4,
 "nbformat_minor": 2
}
