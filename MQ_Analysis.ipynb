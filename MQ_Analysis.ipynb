{
 "cells": [
  {
   "cell_type": "code",
   "execution_count": 17,
   "id": "9cd79c2f-50cf-49cc-bf60-56d9429d997b",
   "metadata": {},
   "outputs": [],
   "source": [
    "import os\n",
    "from glob import glob\n",
    "\n",
    "import numpy as np\n",
    "import pandas as pd\n",
    "import matplotlib.pyplot as plt\n",
    "import matplotlib.colors as colors\n",
    "\n",
    "import obspy\n",
    "from obspy.core import UTCDateTime\n",
    "from obspy.signal.filter import envelope\n",
    "from obspy.signal.invsim import paz_to_freq_resp"
   ]
  },
  {
   "cell_type": "code",
   "execution_count": 31,
   "id": "612d206c-261e-4169-ba20-b3e968246fe6",
   "metadata": {},
   "outputs": [
    {
     "name": "stdout",
     "output_type": "stream",
     "text": [
      "SMQ_LPX.sac SMQ_LPY.sac SMQ_LPZ.sac SMQ_SPZ.sac\n"
     ]
    }
   ],
   "source": [
    "!ls ./dataset/SMQ_750103/S14"
   ]
  },
  {
   "cell_type": "code",
   "execution_count": 44,
   "id": "df543f1c-c51f-476f-8687-1e1ed9c5c1f2",
   "metadata": {},
   "outputs": [
    {
     "data": {
      "text/plain": [
       "'bbb'"
      ]
     },
     "execution_count": 44,
     "metadata": {},
     "output_type": "execute_result"
    }
   ],
   "source": [
    "aaa = [1, 2, 3]\n",
    "bbb = 'aaa'\n",
    "\n",
    "if 1 in aaa: bbb = 'bbb'\n",
    "bbb"
   ]
  },
  {
   "cell_type": "markdown",
   "id": "f1cd96e6-db1e-4fd7-bd20-e7af911016ef",
   "metadata": {},
   "source": [
    "# クラス・メソッドの定義"
   ]
  },
  {
   "cell_type": "code",
   "execution_count": 11,
   "id": "8bbb3276-afe9-4d26-8f69-965d1866b51d",
   "metadata": {},
   "outputs": [],
   "source": [
    "class MQ_Analysis:\n",
    "    '''\n",
    "    月震の解析用クラス\n",
    "    \n",
    "    Attributes:\n",
    "        station (Int): ステーション番号\n",
    "        data_lpx (Stream): LP-X DATA\n",
    "        data_lpy (Stream): LP-Y DATA\n",
    "        data_lpz (Stream): LP-Z DATA\n",
    "        data_spz (Stream): SP-Z DATA\n",
    "    '''\n",
    "    def __init__(self, input_station):\n",
    "        '''\n",
    "        Initialization\n",
    "        \n",
    "        Args:\n",
    "            input_station: ステーション番号\n",
    "        '''\n",
    "        station = 0\n",
    "        data_lpx = None\n",
    "        data_lpy = None\n",
    "        data_lpz = None\n",
    "        data_spz = None\n",
    "        \n",
    "        \n",
    "    def download(self, url):\n",
    "        '''\n",
    "        IDを指定してダウンロード (obspyプラグインが必要)\n",
    "        \n",
    "        Args:\n",
    "            url (Str): ダウンロードURL\n",
    "        '''\n",
    "        # 末尾の数字に1を足す\n",
    "        url2 = url.split('.')\n",
    "        url2[-1] = str(int(aaa.split('.')[-1]) + 1)\n",
    "        url2 = '.'.join(url2)\n",
    "\n",
    "        # ダウンロード\n",
    "        data = obspy.read(url)\n",
    "        data += obspy.read(url2)\n",
    "        \n",
    "        # メンバ変数に格納 (selectが空集合の場合はNoneが入る)\n",
    "        self.data_lpx = data.select(id='XA.S{}..LPX'.format(self.station))\n",
    "        self.data_lpy = data.select(id='XA.S{}..LPY'.format(self.station))\n",
    "        self.data_lpx = data.select(id='XA.S{}..LPZ'.format(self.station))\n",
    "        self.data_spz = data.select(id='XA.S{}..SPZ'.format(self.station))\n",
    "        \n",
    "        \n",
    "    def read_sac(self, path):\n",
    "        '''\n",
    "        SACファイルを読み込む\n",
    "        \n",
    "        Args:\n",
    "            path (Str): SACファイルが入ったディレクトリのパス\n",
    "        '''\n",
    "        files = glob(path + '/SMQ_*.sac')\n",
    "        \n",
    "        # メンバ変数に格納\n",
    "        file = path + 'SMQ_LPX.sac'\n",
    "        if file in files: self.data_lpx = obspy.read(file)\n",
    "        \n",
    "        file = path + 'SMQ_LPY.sac'\n",
    "        if file in files: self.data_lpy = obspy.read(file)\n",
    "        \n",
    "        file = path + 'SMQ_LPZ.sac'\n",
    "        if file in files: self.data_lpz = obspy.read(file)\n",
    "        \n",
    "        file = path + 'SMQ_SPZ.sac'\n",
    "        if file in files: self.data_spz = obspy.read(file)\n",
    "    \n",
    "    \n",
    "    def to_sac(self, path):\n",
    "        '''\n",
    "        SACファイルに出力\n",
    "        \n",
    "        Args:\n",
    "            path (Str): SACファイルの出力先のパス\n",
    "        '''\n",
    "        # ステーション番号のディレクトリを作成\n",
    "        dir_path = path + '/S' + str(self.station)\n",
    "        os.mkdir(dir_path)\n",
    "        \n",
    "        # SACファイルの出力\n",
    "        if self.data_lpx != None:\n",
    "            self.data_lpx.write(dir_path + '/SMQ_LPX.sac', format='SAC')\n",
    "        if self.data_lpy != None:\n",
    "            self.data_lpy.write(dir_path + '/SMQ_LPY.sac', format='SAC')\n",
    "        if self.data_lpz != None:\n",
    "            self.data_lpz.write(dir_path + '/SMQ_LPZ.sac', format='SAC')\n",
    "        if self.data_spz != None:\n",
    "            self.data_spz.write(dir_path + '/SMQ_SPZ.sac', format='SAC')\n",
    "        \n",
    "    \n",
    "    def data_preprocessing(\n",
    "        self,\n",
    "        channel,\n",
    "        pre_high_freq,\n",
    "        pre_low_freq,\n",
    "        post_high_freq,\n",
    "        post_low_freq,\n",
    "        paz_remove\n",
    "    ):\n",
    "        '''\n",
    "        前処理用関数\n",
    "\n",
    "        Args:\n",
    "            data (Stream): ObspyのStreamオブジェクトに格納されたデータ\n",
    "            pre_high_freq (Float): Pre-Filtering (Low-Pass) の閾値\n",
    "            pre_low_freq (Float): Pre-Filtering (High-Pass) の閾値\n",
    "            post_high_freq (Float): Filtering (Low-Pass) の閾値\n",
    "            post_low_freq (Float): Filtering (High-Pass) の閾値\n",
    "            paz_remove (Dict): \"poles\", \"zeros\", \"gain\", \"sensitivity\"を含むデータ\n",
    "\n",
    "        Returns:\n",
    "            data_PSD (Ndarray): dataのPSD\n",
    "        '''\n",
    "        data.detrend(type='linear') # detrend\n",
    "        data.detrend('demean') # demean\n",
    "        data.taper(0.05, type='cosine')\n",
    "        data.filter('lowpass', freq=pre_high_freq, zerophase=True)\n",
    "        data.filter('highpass', freq=pre_low_freq, zerophase=True)\n",
    "        data.simulate(paz_remove=paz_remove) # Remove response\n",
    "        data.taper(0.05, type='cosine')\n",
    "        data.differentiate(method='gradient')\n",
    "        data_PSD=[0].data\n",
    "        data.filter('lowpass', freq=freq_high, zerophase=True)\n",
    "        data.filter('highpass', freq=freq_low, zerophase=True)"
   ]
  },
  {
   "cell_type": "code",
   "execution_count": null,
   "id": "504105c8-4c0e-4a98-8aba-fe329d157be4",
   "metadata": {},
   "outputs": [],
   "source": []
  }
 ],
 "metadata": {
  "kernelspec": {
   "display_name": "myenv",
   "language": "python",
   "name": "myenv"
  },
  "language_info": {
   "codemirror_mode": {
    "name": "ipython",
    "version": 3
   },
   "file_extension": ".py",
   "mimetype": "text/x-python",
   "name": "python",
   "nbconvert_exporter": "python",
   "pygments_lexer": "ipython3",
   "version": "3.8.8"
  }
 },
 "nbformat": 4,
 "nbformat_minor": 5
}
